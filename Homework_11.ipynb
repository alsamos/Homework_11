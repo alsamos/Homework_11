{
 "cells": [
  {
   "cell_type": "markdown",
   "id": "8f2889ac",
   "metadata": {},
   "source": [
    "Дана функция f(x) = 18x^2 + 6x - 9\n",
    "\n",
    "1. Определить корни\n",
    "\n",
    "2. Найти интервалы, на которых функция возрастает\n",
    "\n",
    "3. Найти интервалы, на которых функция убывает\n",
    "\n",
    "4. Построить график\n",
    "\n",
    "5. Вычислить вершину\n",
    "\n",
    "6. Определить промежутки, на котором f > 0\n",
    "\n",
    "7. Определить промежутки, на котором f < 0\n"
   ]
  },
  {
   "cell_type": "code",
   "execution_count": 75,
   "id": "19f95da1",
   "metadata": {},
   "outputs": [],
   "source": [
    "import sympy\n",
    "import matplotlib.pyplot as plt\n",
    "import numpy as np"
   ]
  },
  {
   "cell_type": "code",
   "execution_count": 76,
   "id": "50eb1c0e",
   "metadata": {},
   "outputs": [],
   "source": [
    "x = sympy.symbols('x')"
   ]
  },
  {
   "cell_type": "code",
   "execution_count": 77,
   "id": "2cc0db53",
   "metadata": {},
   "outputs": [],
   "source": [
    "f = 18 * x ** 2 + 6 * x - 9"
   ]
  },
  {
   "cell_type": "code",
   "execution_count": 78,
   "id": "c254e29d",
   "metadata": {},
   "outputs": [
    {
     "data": {
      "text/plain": [
       "[-1/6 + sqrt(19)/6, -sqrt(19)/6 - 1/6]"
      ]
     },
     "execution_count": 78,
     "metadata": {},
     "output_type": "execute_result"
    }
   ],
   "source": [
    "ans = sympy.solve(f)\n",
    "ans"
   ]
  },
  {
   "cell_type": "code",
   "execution_count": 80,
   "id": "3a542f35",
   "metadata": {},
   "outputs": [
    {
     "data": {
      "text/plain": [
       "0.56"
      ]
     },
     "execution_count": 80,
     "metadata": {},
     "output_type": "execute_result"
    }
   ],
   "source": [
    "round(-1/6 + sqrt(19)/6, 2)\n"
   ]
  },
  {
   "cell_type": "code",
   "execution_count": 81,
   "id": "2a1db20b",
   "metadata": {},
   "outputs": [
    {
     "data": {
      "text/plain": [
       "-0.89"
      ]
     },
     "execution_count": 81,
     "metadata": {},
     "output_type": "execute_result"
    }
   ],
   "source": [
    "round(-sqrt(19)/6 - 1/6, 2)"
   ]
  },
  {
   "cell_type": "code",
   "execution_count": 82,
   "id": "9ea2fb10",
   "metadata": {},
   "outputs": [
    {
     "data": {
      "text/plain": [
       "0"
      ]
     },
     "execution_count": 82,
     "metadata": {},
     "output_type": "execute_result"
    }
   ],
   "source": [
    "x1 = -1/6 + sqrt(19)/6\n",
    "f1 = 18 * x1 ** 2 + 6 * x1 - 9\n",
    "round(f1)"
   ]
  },
  {
   "cell_type": "markdown",
   "id": "7e2717c3",
   "metadata": {},
   "source": [
    "Корни уравнения: [-1/6 + sqrt(19)/6, -sqrt(19)/6 - 1/6]\n"
   ]
  },
  {
   "cell_type": "code",
   "execution_count": 83,
   "id": "24cc28fc",
   "metadata": {},
   "outputs": [],
   "source": [
    "f, ff = sympy.symbols('f ff')\n",
    "f = 18 * x ** 2 + 6 * x - 9"
   ]
  },
  {
   "cell_type": "code",
   "execution_count": 84,
   "id": "c57d8b01",
   "metadata": {},
   "outputs": [],
   "source": [
    "ff = sympy.diff(f)"
   ]
  },
  {
   "cell_type": "code",
   "execution_count": 85,
   "id": "2aac522a",
   "metadata": {},
   "outputs": [
    {
     "data": {
      "text/latex": [
       "$\\displaystyle 36 x + 6$"
      ],
      "text/plain": [
       "36*x + 6"
      ]
     },
     "execution_count": 85,
     "metadata": {},
     "output_type": "execute_result"
    }
   ],
   "source": [
    "ff"
   ]
  },
  {
   "cell_type": "code",
   "execution_count": 86,
   "id": "b75d7b27",
   "metadata": {},
   "outputs": [
    {
     "data": {
      "text/plain": [
       "[-1/6]"
      ]
     },
     "execution_count": 86,
     "metadata": {},
     "output_type": "execute_result"
    }
   ],
   "source": [
    "ans = sympy.solve(ff)\n",
    "ans"
   ]
  },
  {
   "cell_type": "markdown",
   "id": "95f0798e",
   "metadata": {},
   "source": [
    "Вершина параболы x = -1/6"
   ]
  },
  {
   "cell_type": "code",
   "execution_count": 87,
   "id": "8f1da998",
   "metadata": {},
   "outputs": [
    {
     "data": {
      "text/plain": [
       "-1290"
      ]
     },
     "execution_count": 87,
     "metadata": {},
     "output_type": "execute_result"
    }
   ],
   "source": [
    "36 * (-36) + 6 "
   ]
  },
  {
   "cell_type": "code",
   "execution_count": 88,
   "id": "1f0a9051",
   "metadata": {},
   "outputs": [
    {
     "data": {
      "text/plain": [
       "1302"
      ]
     },
     "execution_count": 88,
     "metadata": {},
     "output_type": "execute_result"
    }
   ],
   "source": [
    "36 * 36 + 6 "
   ]
  },
  {
   "cell_type": "markdown",
   "id": "3462ec0d",
   "metadata": {},
   "source": [
    "При x < -1/6 производная < 0 и функция f убывает\n",
    "\n",
    "При x > -1/6 производная > 0 и функция f возрастает"
   ]
  },
  {
   "cell_type": "code",
   "execution_count": 90,
   "id": "4968d1b2",
   "metadata": {},
   "outputs": [
    {
     "data": {
      "text/plain": [
       "array([-20.    , -19.9999, -19.9998, ...,  19.9998,  19.9999,  20.    ])"
      ]
     },
     "execution_count": 90,
     "metadata": {},
     "output_type": "execute_result"
    }
   ],
   "source": [
    "x = np.arange(-20, 20.0001, 0.0001)\n",
    "x"
   ]
  },
  {
   "cell_type": "code",
   "execution_count": 91,
   "id": "c99f2ee9",
   "metadata": {},
   "outputs": [],
   "source": [
    "f = 18 * x ** 2 + 6 * x - 9"
   ]
  },
  {
   "cell_type": "code",
   "execution_count": 92,
   "id": "56d677ee",
   "metadata": {},
   "outputs": [
    {
     "data": {
      "image/png": "[encoded data removed]",
      "text/plain": [
       "<Figure size 640x480 with 1 Axes>"
      ]
     },
     "metadata": {},
     "output_type": "display_data"
    }
   ],
   "source": [
    "plt.plot(x, f)\n",
    "f2 = 0 * x\n",
    "plt.plot(x, f2)\n",
    "plt.show()"
   ]
  },
  {
   "cell_type": "markdown",
   "id": "a9c9a894",
   "metadata": {},
   "source": [
    "При x < (-sqrt(19)/6 - 1/6) или x > (-1/6 + sqrt(19)/6) функция  f > 0.\n",
    "\n",
    "При (-sqrt(19)/6 - 1/6) < х < (-1/6 + sqrt(19)/6) функция f < 0."
   ]
  },
  {
   "cell_type": "code",
   "execution_count": 93,
   "id": "705f7233",
   "metadata": {},
   "outputs": [
    {
     "data": {
      "image/png": "[encoded data removed]",
      "text/plain": [
       "<Figure size 640x480 with 1 Axes>"
      ]
     },
     "metadata": {},
     "output_type": "display_data"
    }
   ],
   "source": [
    "ff = 36 * 𝑥 + 6\n",
    "plt.plot(x, ff)\n",
    "plt.plot(x, f2)\n",
    "plt.show()"
   ]
  }
 ],
 "metadata": {
  "kernelspec": {
   "display_name": "Python 3 (ipykernel)",
   "language": "python",
   "name": "python3"
  },
  "language_info": {
   "codemirror_mode": {
    "name": "ipython",
    "version": 3
   },
   "file_extension": ".py",
   "mimetype": "text/x-python",
   "name": "python",
   "nbconvert_exporter": "python",
   "pygments_lexer": "ipython3",
   "version": "3.9.13"
  }
 },
 "nbformat": 4,
 "nbformat_minor": 5
}
